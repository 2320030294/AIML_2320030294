{
  "nbformat": 4,
  "nbformat_minor": 0,
  "metadata": {
    "colab": {
      "provenance": []
    },
    "kernelspec": {
      "name": "python3",
      "display_name": "Python 3"
    },
    "language_info": {
      "name": "python"
    }
  },
  "cells": [
    {
      "cell_type": "code",
      "execution_count": 12,
      "metadata": {
        "colab": {
          "base_uri": "https://localhost:8080/"
        },
        "id": "ugaHKq6cUSgU",
        "outputId": "2ac0ad21-d0ce-4a8f-f346-50fd454e0d9f"
      },
      "outputs": [
        {
          "output_type": "stream",
          "name": "stdout",
          "text": [
            "Enter your name: Abhiram\n",
            "Enter your age: 19\n",
            "Enter your favourite number: 7\n",
            "Hello, Abhiram!\n",
            "You will turn 100 years old in the year 2105.\n",
            "Double your favorite number is 14.\n"
          ]
        }
      ],
      "source": [
        "#Variables and Data Types\n",
        "name = input(\"Enter your name: \")\n",
        "age = int(input(\"Enter your age: \"))\n",
        "fav_number = int(input(\"Enter your favourite number: \"))\n",
        "\n",
        "greeting = f\"Hello, {name}!\"\n",
        "year_turn_100 = 2024 - age + 100\n",
        "double_fav_number = fav_number * 2\n",
        "\n",
        "print(greeting)\n",
        "print(f\"You will turn 100 years old in the year {year_turn_100}.\")\n",
        "print(f\"Double your favorite number is {double_fav_number}.\")"
      ]
    },
    {
      "cell_type": "code",
      "source": [
        "#Conditional Statements\n",
        "number = float(input(\"Enter a number: \"))\n",
        "\n",
        "if number % 2 == 0:\n",
        "    print(\"The number is even.\")\n",
        "else:\n",
        "    print(\"The number is odd.\")\n",
        "\n",
        "if number > 0:\n",
        "    print(\"The number is positive.\")\n",
        "elif number < 0:\n",
        "    print(\"The number is negative.\")\n",
        "else:\n",
        "    print(\"The number is zero.\")"
      ],
      "metadata": {
        "colab": {
          "base_uri": "https://localhost:8080/"
        },
        "id": "cdOGbzKqVM1M",
        "outputId": "78320e33-d8c0-41d3-a709-e4aaa2894dea"
      },
      "execution_count": 2,
      "outputs": [
        {
          "output_type": "stream",
          "name": "stdout",
          "text": [
            "Enter a number: 24\n",
            "The number is even.\n",
            "The number is positive.\n"
          ]
        }
      ]
    },
    {
      "cell_type": "code",
      "source": [
        "#Loops\n",
        "for i in range(1, 51):\n",
        "    if i % 2 == 0:\n",
        "        print(i, end=\" \")\n",
        "print()\n",
        "# Example Output:\n",
        "# 2 4 6 8 ... 50\n",
        "\n",
        "num = 1\n",
        "while num <= 50:\n",
        "    if num % 2 == 0:\n",
        "        print(num, end=\" \")\n",
        "    num += 1\n",
        "print()"
      ],
      "metadata": {
        "colab": {
          "base_uri": "https://localhost:8080/"
        },
        "id": "6rUO2sZTVREx",
        "outputId": "62f977c9-5043-48f0-8f63-b802de7ecde4"
      },
      "execution_count": 5,
      "outputs": [
        {
          "output_type": "stream",
          "name": "stdout",
          "text": [
            "2 4 6 8 10 12 14 16 18 20 22 24 26 28 30 32 34 36 38 40 42 44 46 48 50 \n",
            "2 4 6 8 10 12 14 16 18 20 22 24 26 28 30 32 34 36 38 40 42 44 46 48 50 \n"
          ]
        }
      ]
    },
    {
      "cell_type": "code",
      "source": [
        "#Lists and Dictionaries\n",
        "foods = []\n",
        "for i in range(5):\n",
        "    food = input(f\"Enter favourite food {i + 1}: \")\n",
        "    foods.append(food)\n",
        "\n",
        "print(\"Your favourite foods are:\", foods)\n",
        "\n",
        "food_dict = {food: len(food) for food in foods}\n",
        "print(\"Food dictionary with lengths:\", food_dict)"
      ],
      "metadata": {
        "colab": {
          "base_uri": "https://localhost:8080/"
        },
        "id": "jk-DUOgvVkt-",
        "outputId": "2d68c44c-2d18-4464-d468-c4cc52afe050"
      },
      "execution_count": 6,
      "outputs": [
        {
          "output_type": "stream",
          "name": "stdout",
          "text": [
            "Enter favourite food 1: Biryani\n",
            "Enter favourite food 2: Vadapav\n",
            "Enter favourite food 3: Dosa\n",
            "Enter favourite food 4: Friedrice\n",
            "Enter favourite food 5: Pav bajji\n",
            "Your favourite foods are: ['Biryani', 'Vadapav', 'Dosa', 'Friedrice', 'Pav bajji']\n",
            "Food dictionary with lengths: {'Biryani': 7, 'Vadapav': 7, 'Dosa': 4, 'Friedrice': 9, 'Pav bajji': 9}\n"
          ]
        }
      ]
    },
    {
      "cell_type": "code",
      "source": [
        "#Functions\n",
        "def calculate_area(shape, dimension1, dimension2=None):\n",
        "    if shape == \"circle\":\n",
        "        return 3.14159 * dimension1**2\n",
        "    elif shape == \"rectangle\":\n",
        "        return dimension1 * dimension2\n",
        "    elif shape == \"triangle\":\n",
        "        return 0.5 * dimension1 * dimension2\n",
        "    else:\n",
        "        return None\n",
        "\n",
        "circle_area = calculate_area(\"circle\", 5)\n",
        "rectangle_area = calculate_area(\"rectangle\", 4, 7)\n",
        "triangle_area = calculate_area(\"triangle\", 6, 8)\n",
        "\n",
        "print(f\"Area of circle: {circle_area}\")\n",
        "print(f\"Area of rectangle: {rectangle_area}\")\n",
        "print(f\"Area of triangle: {triangle_area}\")"
      ],
      "metadata": {
        "colab": {
          "base_uri": "https://localhost:8080/"
        },
        "id": "pqBgp-CQV2CK",
        "outputId": "d97e95fe-6e56-4686-978f-4b4b9b09afe1"
      },
      "execution_count": 7,
      "outputs": [
        {
          "output_type": "stream",
          "name": "stdout",
          "text": [
            "Area of circle: 78.53975\n",
            "Area of rectangle: 28\n",
            "Area of triangle: 24.0\n"
          ]
        }
      ]
    },
    {
      "cell_type": "code",
      "source": [
        "#String Manipulation\n",
        "sentence = input(\"Enter a sentence: \")\n",
        "vowels = \"aeiouAEIOU\"\n",
        "vowel_count = sum(1 for char in sentence if char in vowels)\n",
        "reversed_sentence = sentence[::-1]\n",
        "uppercase_sentence = sentence.upper()\n",
        "\n",
        "print(f\"Number of vowels: {vowel_count}\")\n",
        "print(f\"Reversed sentence: {reversed_sentence}\")\n",
        "print(f\"Uppercase sentence: {uppercase_sentence}\")"
      ],
      "metadata": {
        "colab": {
          "base_uri": "https://localhost:8080/"
        },
        "id": "G1zuECRaV6qW",
        "outputId": "48ca5848-41ba-4bb8-8481-4eb6b68b618d"
      },
      "execution_count": 8,
      "outputs": [
        {
          "output_type": "stream",
          "name": "stdout",
          "text": [
            "Enter a sentence: I'm studying in kl university\n",
            "Number of vowels: 8\n",
            "Reversed sentence: ytisrevinu lk ni gniyduts m'I\n",
            "Uppercase sentence: I'M STUDYING IN KL UNIVERSITY\n"
          ]
        }
      ]
    },
    {
      "cell_type": "code",
      "source": [
        "#File Handling\n",
        "with open(\"data.txt\", \"w\") as file:\n",
        "    file.write(\"Hello, Python!\\n\")\n",
        "    file.write(\"Learning file handling.\\n\")\n",
        "    file.write(\"Python is fun!\\n\")\n",
        "\n",
        "with open(\"data.txt\", \"r\") as file:\n",
        "    content = file.read()\n",
        "    print(\"File content:\")\n",
        "    print(content)"
      ],
      "metadata": {
        "colab": {
          "base_uri": "https://localhost:8080/"
        },
        "id": "dznOndI-WFfr",
        "outputId": "7313f408-0979-4f1f-b9c9-1c355ab49647"
      },
      "execution_count": 9,
      "outputs": [
        {
          "output_type": "stream",
          "name": "stdout",
          "text": [
            "File content:\n",
            "Hello, Python!\n",
            "Learning file handling.\n",
            "Python is fun!\n",
            "\n"
          ]
        }
      ]
    },
    {
      "cell_type": "code",
      "source": [
        "#Error Handling\n",
        "try:\n",
        "    num1 = float(input(\"Enter the first number: \"))\n",
        "    num2 = float(input(\"Enter the second number: \"))\n",
        "    result = num1 / num2\n",
        "    print(f\"Result: {result}\")\n",
        "except ZeroDivisionError:\n",
        "    print(\"Error: Division by zero is not allowed.\") # Indented this line\n",
        "except ValueError:\n",
        "    print(\"Error: Invalid input. Please enter numeric values.\") # Indented this line"
      ],
      "metadata": {
        "colab": {
          "base_uri": "https://localhost:8080/"
        },
        "id": "tJrBt-13WJlG",
        "outputId": "432906fd-87fe-457f-8b4f-a9120603b48d"
      },
      "execution_count": 11,
      "outputs": [
        {
          "output_type": "stream",
          "name": "stdout",
          "text": [
            "Enter the first number: 15\n",
            "Enter the second number: 24\n",
            "Result: 0.625\n"
          ]
        }
      ]
    }
  ]
}