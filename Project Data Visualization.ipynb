{
 "cells": [
  {
   "cell_type": "code",
   "execution_count": null,
   "metadata": {
    "colab": {
     "base_uri": "https://localhost:8080/"
    },
    "id": "UshD-oAculfI",
    "outputId": "352bda55-9e3f-420b-ec53-6130652a0bd4"
   },
   "outputs": [
    {
     "name": "stdout",
     "output_type": "stream",
     "text": [
      "\n",
      "Enter text (or 'exit' to quit): Bonjour\n",
      "🌎 Detected: French (code: fr)\n",
      "Sample words & greetings: Bonjour, Au revoir, Salut, Bonne nuit, Comment ça va?, Livre, Stylo, Eau, Amour, Bonheur\n"
     ]
    }
   ],
   "source": [
    "# ✅ Language Detection Using Naive Bayes\n",
    "\n",
    "try:\n",
    "    from langdetect import detect, DetectorFactory\n",
    "except ModuleNotFoundError:\n",
    "    import os\n",
    "    os.system('pip install langdetect')\n",
    "    from langdetect import detect, DetectorFactory\n",
    "\n",
    "DetectorFactory.seed = 0  # Make detection stable across runs\n",
    "\n",
    "# Dataset\n",
    "\n",
    "LANGUAGE_NAMES = {\n",
    "    \"af\": (\"Afrikaans\", [\"Hallo\", \"Totsiens\", \"Goedemiddag\", \"Goeie naand\", \"Leker slaap\", \"Water\", \"Boek\", \"Vriend\", \"Geluk\", \"Huis\"]),\n",
    "    \"ar\": (\"Arabic\", [\"مرحبًا\", \"وداعًا\", \"صباح الخير\", \"مساء الخير\", \"كيف حالك\", \"ماء\", \"قلم\", \"كتاب\", \"حب\", \"سعادة\"]),\n",
    "    \"en\": (\"English\", [\"Hello\", \"Goodbye\", \"Hi\", \"Bye\", \"Good morning\", \"Good evening\", \"How are you\", \"Water\", \"Book\", \"Love\"]),\n",
    "    \"es\": (\"Spanish\", [\"Hola\", \"Adiós\", \"Buenos días\", \"Buenas tardes\", \"¿Cómo estás?\", \"Amor\", \"Libro\", \"Agua\", \"Sol\", \"Felicidad\"]),\n",
    "    \"de\": (\"German\", [\"Hallo\", \"Tschüss\", \"Guten Morgen\", \"Guten Abend\", \"Wie geht's?\", \"Buch\", \"Wasser\", \"Stift\", \"Liebe\", \"Glück\"]),\n",
    "    \"fr\": (\"French\", [\"Bonjour\", \"Au revoir\", \"Salut\", \"Bonne nuit\", \"Comment ça va?\", \"Livre\", \"Stylo\", \"Eau\", \"Amour\", \"Bonheur\"]),\n",
    "    \"it\": (\"Italian\", [\"Ciao\", \"Addio\", \"Buongiorno\", \"Buonasera\", \"Come stai?\", \"Libro\", \"Penna\", \"Acqua\", \"Amore\", \"Felicità\"]),\n",
    "    \"pt\": (\"Portuguese\", [\"Olá\", \"Adeus\", \"Oi\", \"Tchau\", \"Bom dia\", \"Boa noite\", \"Como você está?\", \"Livro\", \"Água\", \"Amor\"]),\n",
    "    \"ru\": (\"Russian\", [\"Привет\", \"До свидания\", \"Доброе утро\", \"Добрый вечер\", \"Как дела?\", \"Книга\", \"Вода\", \"Ручка\", \"Любовь\", \"Счастье\"]),\n",
    "    \"zh-cn\": (\"Chinese (Simplified)\", [\"你好\", \"再见\", \"早上好\", \"晚上好\", \"你好吗?\", \"书\", \"笔\", \"水\", \"爱\", \"幸福\"]),\n",
    "    \"hi\": (\"Hindi\", [\"नमस्ते\", \"अलविदा\", \"नमस्कार\", \"बाय\", \"सुप्रभात\", \"शुभ संध्या\", \"कैसे हो?\", \"पुस्तक\", \"पानी\", \"प्रेम\"])\n",
    "}\n",
    "\n",
    "def detect_language(text):\n",
    "    lang_code = detect(text)\n",
    "    lang_name, sample_words = LANGUAGE_NAMES.get(lang_code, (\"Unknown Language\", []))\n",
    "    return lang_code, lang_name, sample_words\n",
    "\n",
    "def main():\n",
    "    while True:\n",
    "        text = input(\"\\nEnter text (or 'exit' to quit): \")\n",
    "        if text.lower() == \"exit\":\n",
    "            break\n",
    "        lang_code, lang_name, sample_words = detect_language(text)\n",
    "        print(f\"🌎 Detected: {lang_name} (code: {lang_code})\")\n",
    "        print(f\"Sample words & greetings: {', '.join(sample_words)}\")\n",
    "\n",
    "if __name__ == \"__main__\":\n",
    "    main()\n"
   ]
  }
 ],
 "metadata": {
  "colab": {
   "authorship_tag": "ABX9TyN4LS5j7BC02k78k3440/27",
   "provenance": []
  },
  "kernelspec": {
   "display_name": "Python 3",
   "name": "python3"
  },
  "language_info": {
   "name": "python"
  }
 },
 "nbformat": 4,
 "nbformat_minor": 0
}
